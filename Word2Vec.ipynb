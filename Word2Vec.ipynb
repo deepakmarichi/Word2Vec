{
 "cells": [
  {
   "cell_type": "markdown",
   "metadata": {},
   "source": [
    "# Word2Vec"
   ]
  },
  {
   "cell_type": "code",
   "execution_count": 1,
   "metadata": {},
   "outputs": [],
   "source": [
    "# Importing libraries\n",
    "import nltk\n",
    "import re\n",
    "from gensim.models import Word2Vec\n",
    "from nltk.corpus import stopwords"
   ]
  },
  {
   "cell_type": "code",
   "execution_count": 2,
   "metadata": {},
   "outputs": [],
   "source": [
    "paragraph = \"The Business Platinum Card® from American Express is a fantastic business card for businesses that travel often and want to make future trips more luxurious. Beyond the rewards program, there are dozens of perks that can make flying less expensive and hassle-free, such as airline fee credits, lounge access and concierge service. Businesses that don’t travel often may see less value with this card since it has many travel benefits and a rewards program mainly structured around travel. You may want to check out other business cards that offer cash back, high rewards for business purchases like gas, or 0% intro APR periods. The Business Platinum Card® from American Express offers exceptional perks that are second to none. Whether your business wants lounge access at over 500 airports worldwide, easy options for account management, various insurances and hotlines, or entertainment perks, this card has you covered. Additionally, you earn the highest reward rate on eligible travel purchases with this card: 5X Membership Rewards® points on flights and prepaid hotels on amextravel.com and 1.5 Membership Rewards® points per dollar on each eligible purchase of $5,000 or more. The $595 annual fee is one of the highest among competitors. Yes, you get a lot of benefits with this card but some businesses may not see the $595 annual fee as feasible. Fortunately, there are other business cards that don’t have an annual fee or have a lower annual fee. Keep in mind you will forgo many of the exclusive perks of The Business Platinum Card® from American Express by choosing another card. The Business Platinum Card® from American Express offers the most benefits of any business card: Business Platinum Concierge: Representatives are available 24/7 to assist with any questions or requests like booking a business lunch. 35% Airline bonus: When you use Membership Rewards® Pay with Points for eligible fares (like First and Business Class), you can receive 35% of those points back, up to 500,000 bonus points per calendar year. American Express Global Lounge Collection: Travel in comfort with access to 1,000+ airport lounges in over 500 airports around the world. Fee Credit for Global Entry or TSA Pre Every 4 years you can receive a statement credit for Global Entry or TSA Pre to make traveling less of a hassle. $200 Airline fee credit: After choosing one airline, you can receive up to $200 in statement credits for checked bags, in-flight refreshments, and other fees. Fine Hotels & Resorts: Booking with Fine Hotels & Resorts allows you to receive complimentary benefits including: room upgrades when available, breakfast, late check-out and more. Upgrade to gold status in select programs: You can upgrade to Gold Status in the Starwood Preferred Guest® program and Hilton Honors™ program. Boingo American Express Preferred Plan: You can access free, unlimited Wi-Fi with this plan on up to four devices at over 1,000,000 hotspots worldwide. Business Platinum travel service: Counselors are available to assist in making travel arrangements and itineraries to make traveling more efficient. Account Manager: Employees or business partners can act as an Account Manager to deal with reviewing statements, making payments and other tasks. American Express® Business App: Manage your card more easily via mobile or desktop to add receipts and notes to transactions. Connect to QuickBooks: Link your QuickBooks and card account to facilitate expenses by labeling and transferring transactions. Baggage insurance plan: If your luggage is lost, damaged, or stolen, you may be covered for the cost when you pay for your ticket with your card. Travel accident insurance: You may be covered up to $100,000 for accidental death and dismemberment as a result of eligible travel fares including plane, train, ship or bus. Global dining collection: Receive special access to reservations and experiences at popular restaurants, and the opportunity to meet chefs at exclusive events. Premium Global Assist® hotline: When you travel over 100 miles from your business, you can qualify for select referrals and services including medical, legal and financial. You’re responsible for the costs charged by third-party service providers. Premium car rental privileges: At premium car rentals, you can receive complimentary membership that includes special upgrades and discounts. Premium roadside assistance: When you are present with an eligible vehicle, you can access the following services at no additional cost up to 4 times per calendar year: towing up to 10 miles, winching, jump starts, flat tire change when you have a workable spare, lockout service when key is in vehicle and delivery of up to 2 gallons of fuel. Car rental loss and damage insurance: You may be covered for the cost of damage or theft when you pay for the rental with your card. OPEN Savings®: Spending at OPEN Savings merchants can earn you either a 5% discount or 2 additional Membership Rewards® points per eligible dollar spent. Preferred Seating: Receive exclusive access to premium seats for events. Entertainment Access®: In select cities you can gain access to exclusive events and presales for concerts, sporting events, Broadways shows and more. The Business Platinum Card® from American Express earns 5X Membership Rewards® points on flights and prepaid hotels on amextravel.com and 1.5 Membership Rewards® points per dollar on each eligible purchase of $5,000 or more. So, it’s beneficial to book all flights and prepaid hotels at amextravel.com to earn the high rewards rate. Use Membership Rewards® Pay with Points for all or part of an eligible fare so you can get 35% of those points back, up to 500,000 bonus points per calendar year. If you travel frequently for business, consider applying for Global Entry or TSA Pre ™ to expedite airport visits. Be sure to select the airline that your business predominantly uses so you can take advantage of the $200 airline fee credit for things like checked baggage and in-flight refreshments. This card is great to use abroad since there is no foreign transaction fee and will save you the 2% to 5% fee some other cards charge. To earn extra Membership Rewards® Points, meet the requirements of the additional Offer: Earn 75,000 Membership Rewards® points after you spend $15,000 on qualifying purchases within your first 3 months of Card Membership. The Business Platinum Card® from American Express offers 5X Membership Rewards® points on flights and prepaid hotels on amextravel.com and 1.5 Membership Rewards® points per dollar on each eligible purchase of $5,000 or more. Membership Rewards® Points can be redeemed for gift cards, transfers to select frequent travel programs, points for charges, shop with points at Amazon.com and more. See embershiprewards.com/terms for the Membership Rewards program terms and conditions. There is a Welcome Offer: Earn 75,000 Membership Rewards® points after you spend $15,000 on qualifying purchases within your first 3 months of Card Membership. The Business Platinum Card® from American Express is a stand-out business card that offers the most value of any card in its category, making the $595 annual fee worth it for businesses that frequently travel and want to enjoy over two dozen perks.\"\n"
   ]
  },
  {
   "cell_type": "code",
   "execution_count": 3,
   "metadata": {},
   "outputs": [],
   "source": [
    "# Preprocessing the data\n",
    "text = re.sub(r'\\[[0-9]*\\]',' ',paragraph)\n",
    "text = re.sub(r'\\s+',' ',text)\n",
    "text = text.lower()\n",
    "text = re.sub(r'\\d',' ',text)\n",
    "text = re.sub(r'\\s+',' ',text)"
   ]
  },
  {
   "cell_type": "code",
   "execution_count": 4,
   "metadata": {},
   "outputs": [
    {
     "data": {
      "text/plain": [
       "'the business platinum card® from american express is a fantastic business card for businesses that travel often and want to make future trips more luxurious. beyond the rewards program, there are dozens of perks that can make flying less expensive and hassle-free, such as airline fee credits, lounge access and concierge service. businesses that don’t travel often may see less value with this card since it has many travel benefits and a rewards program mainly structured around travel. you may want to check out other business cards that offer cash back, high rewards for business purchases like gas, or % intro apr periods. the business platinum card® from american express offers exceptional perks that are second to none. whether your business wants lounge access at over airports worldwide, easy options for account management, various insurances and hotlines, or entertainment perks, this card has you covered. additionally, you earn the highest reward rate on eligible travel purchases with this card: x membership rewards® points on flights and prepaid hotels on amextravel.com and . membership rewards® points per dollar on each eligible purchase of $ , or more. the $ annual fee is one of the highest among competitors. yes, you get a lot of benefits with this card but some businesses may not see the $ annual fee as feasible. fortunately, there are other business cards that don’t have an annual fee or have a lower annual fee. keep in mind you will forgo many of the exclusive perks of the business platinum card® from american express by choosing another card. the business platinum card® from american express offers the most benefits of any business card: business platinum concierge: representatives are available / to assist with any questions or requests like booking a business lunch. % airline bonus: when you use membership rewards® pay with points for eligible fares (like first and business class), you can receive % of those points back, up to , bonus points per calendar year. american express global lounge collection: travel in comfort with access to , + airport lounges in over airports around the world. fee credit for global entry or tsa pre every years you can receive a statement credit for global entry or tsa pre to make traveling less of a hassle. $ airline fee credit: after choosing one airline, you can receive up to $ in statement credits for checked bags, in-flight refreshments, and other fees. fine hotels & resorts: booking with fine hotels & resorts allows you to receive complimentary benefits including: room upgrades when available, breakfast, late check-out and more. upgrade to gold status in select programs: you can upgrade to gold status in the starwood preferred guest® program and hilton honors™ program. boingo american express preferred plan: you can access free, unlimited wi-fi with this plan on up to four devices at over , , hotspots worldwide. business platinum travel service: counselors are available to assist in making travel arrangements and itineraries to make traveling more efficient. account manager: employees or business partners can act as an account manager to deal with reviewing statements, making payments and other tasks. american express® business app: manage your card more easily via mobile or desktop to add receipts and notes to transactions. connect to quickbooks: link your quickbooks and card account to facilitate expenses by labeling and transferring transactions. baggage insurance plan: if your luggage is lost, damaged, or stolen, you may be covered for the cost when you pay for your ticket with your card. travel accident insurance: you may be covered up to $ , for accidental death and dismemberment as a result of eligible travel fares including plane, train, ship or bus. global dining collection: receive special access to reservations and experiences at popular restaurants, and the opportunity to meet chefs at exclusive events. premium global assist® hotline: when you travel over miles from your business, you can qualify for select referrals and services including medical, legal and financial. you’re responsible for the costs charged by third-party service providers. premium car rental privileges: at premium car rentals, you can receive complimentary membership that includes special upgrades and discounts. premium roadside assistance: when you are present with an eligible vehicle, you can access the following services at no additional cost up to times per calendar year: towing up to miles, winching, jump starts, flat tire change when you have a workable spare, lockout service when key is in vehicle and delivery of up to gallons of fuel. car rental loss and damage insurance: you may be covered for the cost of damage or theft when you pay for the rental with your card. open savings®: spending at open savings merchants can earn you either a % discount or additional membership rewards® points per eligible dollar spent. preferred seating: receive exclusive access to premium seats for events. entertainment access®: in select cities you can gain access to exclusive events and presales for concerts, sporting events, broadways shows and more. the business platinum card® from american express earns x membership rewards® points on flights and prepaid hotels on amextravel.com and . membership rewards® points per dollar on each eligible purchase of $ , or more. so, it’s beneficial to book all flights and prepaid hotels at amextravel.com to earn the high rewards rate. use membership rewards® pay with points for all or part of an eligible fare so you can get % of those points back, up to , bonus points per calendar year. if you travel frequently for business, consider applying for global entry or tsa pre ™ to expedite airport visits. be sure to select the airline that your business predominantly uses so you can take advantage of the $ airline fee credit for things like checked baggage and in-flight refreshments. this card is great to use abroad since there is no foreign transaction fee and will save you the % to % fee some other cards charge. to earn extra membership rewards® points, meet the requirements of the additional offer: earn , membership rewards® points after you spend $ , on qualifying purchases within your first months of card membership. the business platinum card® from american express offers x membership rewards® points on flights and prepaid hotels on amextravel.com and . membership rewards® points per dollar on each eligible purchase of $ , or more. membership rewards® points can be redeemed for gift cards, transfers to select frequent travel programs, points for charges, shop with points at amazon.com and more. see embershiprewards.com/terms for the membership rewards program terms and conditions. there is a welcome offer: earn , membership rewards® points after you spend $ , on qualifying purchases within your first months of card membership. the business platinum card® from american express is a stand-out business card that offers the most value of any card in its category, making the $ annual fee worth it for businesses that frequently travel and want to enjoy over two dozen perks.'"
      ]
     },
     "execution_count": 4,
     "metadata": {},
     "output_type": "execute_result"
    }
   ],
   "source": [
    "text"
   ]
  },
  {
   "cell_type": "code",
   "execution_count": 5,
   "metadata": {},
   "outputs": [],
   "source": [
    "# Preparing the dataset\n",
    "sentences = nltk.sent_tokenize(text)\n",
    "sentences = [nltk.word_tokenize(sentence) for sentence in sentences]\n",
    "for i in range(len(sentences)):\n",
    "    sentences[i] = [word for word in sentences[i] if word not in stopwords.words('english') \n",
    "                    and re.match('[a-zA-Z]', word)]"
   ]
  },
  {
   "cell_type": "code",
   "execution_count": 6,
   "metadata": {},
   "outputs": [
    {
     "name": "stdout",
     "output_type": "stream",
     "text": [
      "702\n"
     ]
    }
   ],
   "source": [
    "count = 0\n",
    "for i in sentences:\n",
    "    size = len(i)\n",
    "    count = count +size\n",
    "print(count)"
   ]
  },
  {
   "cell_type": "code",
   "execution_count": 7,
   "metadata": {},
   "outputs": [
    {
     "name": "stdout",
     "output_type": "stream",
     "text": [
      "44\n"
     ]
    }
   ],
   "source": [
    "# Word2Vec modeling\n",
    "model = Word2Vec(sentences, min_count=4)\n",
    "words = model.wv.vocab\n",
    "\n",
    "\n",
    "count = 0\n",
    "for k in words:\n",
    "    count += 1\n",
    "print(count)"
   ]
  },
  {
   "cell_type": "code",
   "execution_count": 8,
   "metadata": {},
   "outputs": [
    {
     "data": {
      "text/plain": [
       "array([ 3.5977578e-03,  8.8539132e-04,  2.3409841e-03, -2.1914591e-03,\n",
       "       -1.7376980e-04, -2.8952891e-03, -1.7668327e-03, -2.8482694e-03,\n",
       "        2.3423738e-03, -4.9282075e-03, -4.6914294e-03, -7.8727823e-04,\n",
       "       -2.1362996e-03, -2.5582791e-03, -4.2903465e-03,  2.1130114e-03,\n",
       "       -4.9096975e-03,  4.9807492e-04, -3.6466215e-04, -1.5920112e-04,\n",
       "        2.9488507e-04,  3.3911357e-03,  2.5692149e-03, -1.1787991e-03,\n",
       "       -3.6406708e-03,  2.3844962e-03, -3.3257045e-03,  4.8649218e-03,\n",
       "       -3.3380918e-03,  1.3982372e-04,  1.4662824e-03, -4.3400883e-04,\n",
       "       -3.2691190e-03, -2.9472744e-03,  4.3474385e-03, -2.8340816e-03,\n",
       "        1.7061224e-03,  2.0381981e-03,  6.4840913e-04, -4.6777670e-04,\n",
       "        1.6473780e-03, -3.1925929e-03,  3.0855404e-05,  3.5649957e-04,\n",
       "        1.3366482e-03, -3.6275208e-03,  7.4385630e-04, -4.0879343e-03,\n",
       "       -2.5405793e-03, -1.9554854e-03,  4.0394310e-03,  2.1453861e-03,\n",
       "       -3.0534747e-03,  2.7712148e-03,  8.4863498e-04, -1.0493716e-03,\n",
       "        1.8298805e-03,  2.4125820e-03,  4.1948580e-03,  5.5770186e-04,\n",
       "       -1.7880612e-03,  2.0918637e-03,  3.4864137e-03, -1.2467011e-03,\n",
       "        2.5860919e-03,  2.7087987e-03,  3.0708869e-03,  1.2296981e-03,\n",
       "        4.2736032e-03, -3.2691788e-03, -2.1464298e-03, -4.7899843e-03,\n",
       "        2.8940449e-03,  1.0466836e-03,  1.0283081e-03, -1.3423710e-03,\n",
       "       -4.7106599e-03,  2.0294280e-03,  4.2544226e-03, -4.2797989e-04,\n",
       "        3.8403193e-03, -7.3874387e-04,  1.5539738e-03, -4.7568860e-03,\n",
       "       -3.1880175e-03,  4.2483881e-03,  2.5775263e-03, -4.9630580e-03,\n",
       "        4.3372512e-03, -4.0239752e-03,  4.1287653e-03, -1.0683445e-03,\n",
       "       -3.3041765e-03, -4.0844423e-03, -3.6329750e-03, -3.9722794e-03,\n",
       "        5.1437889e-04, -2.2309383e-03, -3.5146731e-03,  2.2622503e-03],\n",
       "      dtype=float32)"
      ]
     },
     "execution_count": 8,
     "metadata": {},
     "output_type": "execute_result"
    }
   ],
   "source": [
    "# Finding Word Vectors\n",
    "vector = model.wv['business']\n",
    "vector"
   ]
  },
  {
   "cell_type": "code",
   "execution_count": 9,
   "metadata": {},
   "outputs": [
    {
     "data": {
      "text/plain": [
       "[('rewards®', 0.17540386319160461),\n",
       " ('benefits', 0.1465100795030594),\n",
       " ('offers', 0.13614274561405182),\n",
       " ('account', 0.12618497014045715),\n",
       " ('business', 0.12173432856798172),\n",
       " ('pay', 0.10605011135339737),\n",
       " ('platinum', 0.10018887370824814),\n",
       " ('cards', 0.084117591381073),\n",
       " ('exclusive', 0.0761926919221878),\n",
       " ('card', 0.07555089890956879)]"
      ]
     },
     "execution_count": 9,
     "metadata": {},
     "output_type": "execute_result"
    }
   ],
   "source": [
    "# Most similar words\n",
    "similar = model.wv.most_similar('travel')\n",
    "similar"
   ]
  }
 ],
 "metadata": {
  "kernelspec": {
   "display_name": "Python 3",
   "language": "python",
   "name": "python3"
  },
  "language_info": {
   "codemirror_mode": {
    "name": "ipython",
    "version": 3
   },
   "file_extension": ".py",
   "mimetype": "text/x-python",
   "name": "python",
   "nbconvert_exporter": "python",
   "pygments_lexer": "ipython3",
   "version": "3.7.3"
  }
 },
 "nbformat": 4,
 "nbformat_minor": 2
}
